{
 "cells": [
  {
   "cell_type": "code",
   "execution_count": 2,
   "metadata": {},
   "outputs": [],
   "source": [
    "import os\n",
    "import random\n",
    "import numpy as np\n",
    "from PIL import Image\n",
    "import imgaug.augmenters as iaa\n",
    "\n",
    "#Uncomment lower line if you using numpy latest version or it will give error\n",
    "np.bool = np.bool_\n",
    "\n",
    "def save_augmented_images(folder_path, images, augmenter, target):\n",
    "    current_count = len(images)\n",
    "    image_index = 0  # To ensure unique filenames\n",
    "\n",
    "    while current_count < target:\n",
    "        try:\n",
    "            # Randomly choose an image\n",
    "            img_path = random.choice(images)\n",
    "            img = Image.open(img_path).convert(\"RGB\")  # Ensure RGB mode\n",
    "            img_array = np.array(img)\n",
    "\n",
    "            # Apply augmentation\n",
    "            augmented_image = augmenter(image=img_array)\n",
    "            augmented_image = Image.fromarray(augmented_image)\n",
    "\n",
    "            # Generate a unique filename\n",
    "            new_filename = os.path.join(folder_path, f\"aug_{image_index}.jpg\")\n",
    "            while os.path.exists(new_filename):  # Ensure uniqueness\n",
    "                image_index += 1\n",
    "                new_filename = os.path.join(folder_path, f\"aug_{image_index}.jpg\")\n",
    "\n",
    "            # Save the augmented image\n",
    "            augmented_image.save(new_filename)\n",
    "\n",
    "            current_count += 1\n",
    "            image_index += 1  # Update index for next iteration\n",
    "            \n",
    "        except Exception as e:\n",
    "            print(f\"Error processing image {img_path}: {e}\")\n",
    "\n",
    "def augment_data(path, size):\n",
    "    dataset_path = path\n",
    "    target_count = size  \n",
    "\n",
    "    augmenter = iaa.Sequential([\n",
    "        iaa.SomeOf((2, 4), [  # Apply 2 to up to 4 augmentations \n",
    "            iaa.Sharpen(alpha=(0, 0.5), lightness=(0.75, 1.25)),  #  sharpening\n",
    "            iaa.Crop(percent=(0, 0.1)),  # Less cropping\n",
    "            iaa.Sometimes(0.5, iaa.Affine(rotate=(-10, 10))),  #  probability based  rotation\n",
    "            iaa.Sometimes(0.3, iaa.GaussianBlur(sigma=(0, 0.3))),  #  blurring\n",
    "            iaa.AdditiveGaussianNoise(loc=0, scale=(0.0, 0.01*255), per_channel=0.5),  #  noise\n",
    "            iaa.Sometimes(0.5, iaa.ContrastNormalization((0.9, 1.1))),  # Contrast adjustment\n",
    "        ])\n",
    "    ], random_order=True)  # Apply in random order\n",
    "\n",
    "    # Detect folders in the dataset directory\n",
    "    folders = [d for d in os.listdir(dataset_path) if os.path.isdir(os.path.join(dataset_path, d))]\n",
    "\n",
    "    # Augment images for each detected folder\n",
    "    for folder in folders:\n",
    "        folder_path = os.path.join(dataset_path, folder)\n",
    "        images = [os.path.join(folder_path, img) for img in os.listdir(folder_path) if img.endswith(('.png', '.jpg', '.jpeg'))]\n",
    "\n",
    "        # Perform augmentation if needed\n",
    "        if len(images) < target_count:\n",
    "            print(f\"Augmenting {folder} from {len(images)} to {target_count} images.\")\n",
    "            save_augmented_images(folder_path, images, augmenter, target_count)\n",
    "        else:\n",
    "            print(f\"{folder} already has {len(images)} images or more.\")\n",
    "\n",
    "    print(\"Data augmentation completed!\")\n"
   ]
  },
  {
   "cell_type": "code",
   "execution_count": 6,
   "metadata": {},
   "outputs": [
    {
     "name": "stdout",
     "output_type": "stream",
     "text": [
      "Augmenting glioma_tumor from 5692 to 5700 images.\n",
      "Augmenting meningioma_tumor from 4519 to 5700 images.\n",
      "Augmenting no_tumor from 3170 to 5700 images.\n",
      "Augmenting pituitary_tumor from 4507 to 5700 images.\n",
      "Data augmentation completed!\n"
     ]
    }
   ],
   "source": [
    "augment_data(r\"Brain tumor_D3_White Strip Normalization\", 5700)"
   ]
  }
 ],
 "metadata": {
  "kernelspec": {
   "display_name": "py310",
   "language": "python",
   "name": "python3"
  },
  "language_info": {
   "codemirror_mode": {
    "name": "ipython",
    "version": 3
   },
   "file_extension": ".py",
   "mimetype": "text/x-python",
   "name": "python",
   "nbconvert_exporter": "python",
   "pygments_lexer": "ipython3",
   "version": "3.10.16"
  }
 },
 "nbformat": 4,
 "nbformat_minor": 2
}

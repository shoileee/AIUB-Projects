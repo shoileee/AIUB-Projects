{
 "cells": [
  {
   "cell_type": "code",
   "execution_count": null,
   "metadata": {},
   "outputs": [],
   "source": [
    "!python -m pip install imgaug"
   ]
  },
  {
   "cell_type": "code",
   "execution_count": 1,
   "metadata": {},
   "outputs": [
    {
     "name": "stdout",
     "output_type": "stream",
     "text": [
      "Augmenting Bacterial spot from 624 to 1004 images.\n",
      "Augmenting Black mold from 398 to 1004 images.\n",
      "Augmenting Gray spot from 507 to 1004 images.\n",
      "Augmenting health from 678 to 1004 images.\n",
      "Augmenting Late blight from 550 to 1004 images.\n",
      "Augmenting powdery mildew from 963 to 1004 images.\n",
      "Data augmentation completed!\n"
     ]
    }
   ],
   "source": [
    "import os\n",
    "import random\n",
    "import numpy as np\n",
    "from PIL import Image\n",
    "import imgaug.augmenters as iaa\n",
    "\n",
    "# Path to your dataset folder\n",
    "dataset_path = \"taiwan/data augmentation/Train\"\n",
    "target_count = 1004  # Target number of images per folder\n",
    "\n",
    "# Define minor augmentation techniques\n",
    "augmenters = iaa.Sequential([\n",
    "    iaa.Fliplr(0.5),  # Horizontal flip with 50% probability\n",
    "    iaa.Flipud(0.1),  # Vertical flip with 10% probability\n",
    "    iaa.Affine(scale=(0.95, 1.05), rotate=(-10, 10), shear=(-5, 5)),  # Slight zoom, rotation, and shear\n",
    "    iaa.Crop(percent=(0, 0.05)),  # Minor random cropping\n",
    "])\n",
    "\n",
    "# Function to save augmented images\n",
    "def save_augmented_images(folder_path, images, augmenter, target):\n",
    "    current_count = len(images)\n",
    "    original_image = Image.open(images[0])\n",
    "    original_size = original_image.size  # Preserve original dimensions\n",
    "\n",
    "    while current_count < target:\n",
    "        # Randomly choose an image\n",
    "        img_path = random.choice(images)\n",
    "        img = Image.open(img_path)\n",
    "        img_array = np.array(img, dtype=np.uint8)\n",
    "        \n",
    "        # Apply augmentation\n",
    "        augmented_image_array = augmenter(image=img_array)\n",
    "        augmented_image = Image.fromarray(augmented_image_array).resize(original_size, Image.Resampling.LANCZOS)\n",
    "        \n",
    "        # Save the augmented image with high quality\n",
    "        new_filename = os.path.join(folder_path, f\"aug_{current_count}.jpg\")\n",
    "        augmented_image.save(new_filename, quality=100)  # Save with perfect quality\n",
    "        \n",
    "        current_count += 1\n",
    "\n",
    "# Detect folders in the dataset directory\n",
    "folders = [d for d in os.listdir(dataset_path) if os.path.isdir(os.path.join(dataset_path, d))]\n",
    "\n",
    "# Augment images for each detected folder\n",
    "for folder in folders:\n",
    "    folder_path = os.path.join(dataset_path, folder)\n",
    "    images = [os.path.join(folder_path, img) for img in os.listdir(folder_path) if img.endswith(('.png', '.jpg', '.jpeg'))]\n",
    "    \n",
    "    # Perform augmentation if needed\n",
    "    if len(images) < target_count:\n",
    "        print(f\"Augmenting {folder} from {len(images)} to {target_count} images.\")\n",
    "        save_augmented_images(folder_path, images, augmenters, target_count)\n",
    "    else:\n",
    "        print(f\"{folder} already has {len(images)} images or more.\")\n",
    "\n",
    "print(\"Data augmentation completed!\")"
   ]
  }
 ],
 "metadata": {
  "kernelspec": {
   "display_name": "py310",
   "language": "python",
   "name": "python3"
  },
  "language_info": {
   "codemirror_mode": {
    "name": "ipython",
    "version": 3
   },
   "file_extension": ".py",
   "mimetype": "text/x-python",
   "name": "python",
   "nbconvert_exporter": "python",
   "pygments_lexer": "ipython3",
   "version": "3.10.16"
  }
 },
 "nbformat": 4,
 "nbformat_minor": 2
}

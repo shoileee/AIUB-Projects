{
 "cells": [
  {
   "cell_type": "code",
   "execution_count": 1,
   "metadata": {},
   "outputs": [],
   "source": [
    "import os\n",
    "import random\n",
    "import numpy as np\n",
    "from PIL import Image\n",
    "import imgaug.augmenters as iaa\n",
    "\n",
    "#Uncomment lower line if you using numpy latest version or it will give error\n",
    "np.bool = np.bool_\n",
    "\n",
    "def save_augmented_images(folder_path, images, augmenter, target):\n",
    "    current_count = len(images)\n",
    "    image_index = 0  # To ensure unique filenames\n",
    "\n",
    "    while current_count < target:\n",
    "        try:\n",
    "            # Randomly choose an image\n",
    "            img_path = random.choice(images)\n",
    "            img = Image.open(img_path).convert(\"RGB\")  # Ensure RGB mode\n",
    "            img_array = np.array(img)\n",
    "\n",
    "            # Apply augmentation\n",
    "            augmented_image = augmenter(image=img_array)\n",
    "            augmented_image = Image.fromarray(augmented_image)\n",
    "\n",
    "            # Generate a unique filename\n",
    "            new_filename = os.path.join(folder_path, f\"aug_{image_index}.jpg\")\n",
    "            while os.path.exists(new_filename):  # Ensure uniqueness\n",
    "                image_index += 1\n",
    "                new_filename = os.path.join(folder_path, f\"aug_{image_index}.jpg\")\n",
    "\n",
    "            # Save the augmented image\n",
    "            augmented_image.save(new_filename)\n",
    "\n",
    "            current_count += 1\n",
    "            image_index += 1  # Update index for next iteration\n",
    "            \n",
    "        except Exception as e:\n",
    "            print(f\"Error processing image {img_path}: {e}\")\n",
    "\n",
    "def augment_data(path, size):\n",
    "    dataset_path = path\n",
    "    target_count = size  \n",
    "\n",
    "    augmenter = iaa.Sequential([\n",
    "        iaa.SomeOf((1, 4), [  \n",
    "            iaa.Sharpen(alpha=(0, 0.3), lightness=(0.8, 1.2)),  # Less aggressive sharpening\n",
    "            iaa.Crop(percent=(0, 0.1)),  # Reduce cropping range\n",
    "            iaa.Sometimes(0.3, iaa.Affine(rotate=(-5, 5), mode=\"edge\")),  # Small rotation, no black borders\n",
    "            iaa.Sometimes(0.3, iaa.MotionBlur(k=3)),  # Motion blur \n",
    "            iaa.Sometimes(0.3, iaa.ElasticTransformation(alpha=1, sigma=0.2)),  # Mimic natural cell deformations\n",
    "            iaa.Sometimes(0.3, iaa.MultiplyBrightness((0.8, 1.2))),  # Vary brightness slightly\n",
    "            iaa.Fliplr(0.5),  # 50% chance of horizontal flipping\n",
    "        ])\n",
    "    ], random_order=True)  # Apply in random order\n",
    "\n",
    "    # Detect folders in the dataset directory\n",
    "    folders = [d for d in os.listdir(dataset_path) if os.path.isdir(os.path.join(dataset_path, d))]\n",
    "\n",
    "    # Augment images for each detected folder\n",
    "    for folder in folders:\n",
    "        folder_path = os.path.join(dataset_path, folder)\n",
    "        images = [os.path.join(folder_path, img) for img in os.listdir(folder_path) if img.endswith(('.png', '.jpg', '.jpeg'))]\n",
    "\n",
    "        # Perform augmentation if needed\n",
    "        if len(images) < target_count:\n",
    "            print(f\"Augmenting {folder} from {len(images)} to {target_count} images.\")\n",
    "            save_augmented_images(folder_path, images, augmenter, target_count)\n",
    "        else:\n",
    "            print(f\"{folder} already has {len(images)} images or more.\")\n",
    "\n",
    "    print(\"Data augmentation completed!\")\n"
   ]
  },
  {
   "cell_type": "code",
   "execution_count": 2,
   "metadata": {},
   "outputs": [
    {
     "name": "stdout",
     "output_type": "stream",
     "text": [
      "Augmenting basophil from 1218 to 3350 images.\n",
      "Augmenting eosinophil from 3117 to 3350 images.\n",
      "Augmenting erythroblast from 1551 to 3350 images.\n",
      "Augmenting ig from 2895 to 3350 images.\n",
      "Augmenting lymphocyte from 1214 to 3350 images.\n",
      "Augmenting monocyte from 1420 to 3350 images.\n",
      "Augmenting neutrophil from 3329 to 3350 images.\n",
      "Augmenting platelet from 2348 to 3350 images.\n",
      "Data augmentation completed!\n"
     ]
    }
   ],
   "source": [
    "augment_data(\"./normalized_output of Blood Cancer vahadane\", 3350)"
   ]
  }
 ],
 "metadata": {
  "kernelspec": {
   "display_name": "py310",
   "language": "python",
   "name": "python3"
  },
  "language_info": {
   "codemirror_mode": {
    "name": "ipython",
    "version": 3
   },
   "file_extension": ".py",
   "mimetype": "text/x-python",
   "name": "python",
   "nbconvert_exporter": "python",
   "pygments_lexer": "ipython3",
   "version": "3.10.16"
  }
 },
 "nbformat": 4,
 "nbformat_minor": 2
}
